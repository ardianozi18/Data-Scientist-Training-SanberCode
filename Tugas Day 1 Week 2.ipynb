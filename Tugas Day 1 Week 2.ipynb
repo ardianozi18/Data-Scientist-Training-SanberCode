{
 "cells": [
  {
   "cell_type": "code",
   "execution_count": 0,
   "metadata": {
    "colab": {},
    "colab_type": "code",
    "id": "eKh4dnfm5dd9"
   },
   "outputs": [],
   "source": []
  },
  {
   "cell_type": "markdown",
   "metadata": {
    "colab_type": "text",
    "id": "s6LccGLI5deK"
   },
   "source": [
    "<h2>Quiz 1 : Membuat Objek DataFrames</h2>\n",
    "\n",
    "- Buatlah objek dataframes dari objek dictionary, Bebas!"
   ]
  },
  {
   "cell_type": "code",
   "execution_count": 1,
   "metadata": {
    "colab": {},
    "colab_type": "code",
    "id": "V2jNr8n-5deM"
   },
   "outputs": [
    {
     "data": {
      "text/html": [
       "<div>\n",
       "<style scoped>\n",
       "    .dataframe tbody tr th:only-of-type {\n",
       "        vertical-align: middle;\n",
       "    }\n",
       "\n",
       "    .dataframe tbody tr th {\n",
       "        vertical-align: top;\n",
       "    }\n",
       "\n",
       "    .dataframe thead th {\n",
       "        text-align: right;\n",
       "    }\n",
       "</style>\n",
       "<table border=\"1\" class=\"dataframe\">\n",
       "  <thead>\n",
       "    <tr style=\"text-align: right;\">\n",
       "      <th></th>\n",
       "      <th>merk_sepeda_motor</th>\n",
       "      <th>cc</th>\n",
       "      <th>tipe_sepeda_motor</th>\n",
       "    </tr>\n",
       "  </thead>\n",
       "  <tbody>\n",
       "    <tr>\n",
       "      <th>0</th>\n",
       "      <td>Honda Beat</td>\n",
       "      <td>110</td>\n",
       "      <td>matic</td>\n",
       "    </tr>\n",
       "    <tr>\n",
       "      <th>1</th>\n",
       "      <td>Yamaha NMax</td>\n",
       "      <td>155</td>\n",
       "      <td>matic</td>\n",
       "    </tr>\n",
       "    <tr>\n",
       "      <th>2</th>\n",
       "      <td>Suzuki Satria F-150</td>\n",
       "      <td>150</td>\n",
       "      <td>underbone</td>\n",
       "    </tr>\n",
       "  </tbody>\n",
       "</table>\n",
       "</div>"
      ],
      "text/plain": [
       "     merk_sepeda_motor   cc tipe_sepeda_motor\n",
       "0           Honda Beat  110             matic\n",
       "1          Yamaha NMax  155             matic\n",
       "2  Suzuki Satria F-150  150         underbone"
      ]
     },
     "execution_count": 1,
     "metadata": {},
     "output_type": "execute_result"
    }
   ],
   "source": [
    "# Membuat dataframes dari dictionary\n",
    "import pandas as pd\n",
    "\n",
    "df = pd.DataFrame({'merk_sepeda_motor': [\"Honda Beat\", \"Yamaha NMax\", \"Suzuki Satria F-150\"], 'cc': [110, 155, 150], 'tipe_sepeda_motor': [\"matic\", \"matic\", \"underbone\"]})\n",
    "df"
   ]
  },
  {
   "cell_type": "markdown",
   "metadata": {
    "colab_type": "text",
    "id": "KWEFNf9B5deX"
   },
   "source": [
    "<h2>Quiz 2 : Membaca data dari file</h2>\n",
    "\n",
    "Download file bernama diamonds.csv, kemudian baca data tersebut dan assign ke dalam suatu variabel kemudian print."
   ]
  },
  {
   "cell_type": "code",
   "execution_count": 11,
   "metadata": {
    "colab": {},
    "colab_type": "code",
    "id": "Jy2KtDNs5deZ"
   },
   "outputs": [
    {
     "name": "stdout",
     "output_type": "stream",
     "text": [
      " Volume in drive C has no label.\n",
      " Volume Serial Number is 4D44-FBC0\n",
      "\n",
      " Directory of C:\\Users\\Ardian Fauzi Tri P\\anaconda3\\Z\n",
      "\n",
      "28/04/2020  05:50    <DIR>          .\n",
      "28/04/2020  05:50    <DIR>          ..\n",
      "28/04/2020  00:35    <DIR>          .idea\n",
      "28/04/2020  05:34    <DIR>          .ipynb_checkpoints\n",
      "27/04/2020  22:59                57 CobaPython.py\n",
      "27/04/2020  23:47                57 CobaPython2.py\n",
      "28/04/2020  00:17    <DIR>          dateutil\n",
      "28/04/2020  05:44                 2 image.png.csv\n",
      "28/04/2020  00:17    <DIR>          numpy\n",
      "28/04/2020  05:24             1.938 oziardian@gmail.com.ipynb\n",
      "28/04/2020  00:13    <DIR>          pandas\n",
      "28/04/2020  00:17    <DIR>          pytz\n",
      "28/04/2020  05:50             6.287 Tugas Day 1 Week 2.ipynb\n",
      "28/04/2020  00:34             5.911 Tugas Day 5.ipynb\n",
      "28/04/2020  00:34                72 Untitled.ipynb\n",
      "               7 File(s)         14.324 bytes\n",
      "               8 Dir(s)  55.732.150.272 bytes free\n"
     ]
    }
   ],
   "source": [
    "# Membaca data dan memasukannya kedalam suatu variabel\n",
    "import pandas as pd\n",
    "\n",
    "df_csv = pd.read_csv(\"image\")"
   ]
  },
  {
   "cell_type": "markdown",
   "metadata": {
    "colab_type": "text",
    "id": "1o9m_N295del"
   },
   "source": [
    "Expected Result :\n",
    "\n",
    "![image.png](attachment:image.png)"
   ]
  },
  {
   "cell_type": "markdown",
   "metadata": {
    "colab_type": "text",
    "id": "LtLWF_Ot5deo"
   },
   "source": [
    "<h2>Quiz 3 : DataFrame vs Series</h2>\n",
    "\n",
    "- Apa perbedaan Series dengan list dan dictionary\n",
    "- Apa perbedaan dataframe dan series\n",
    "- Buatlah suatu data series"
   ]
  },
  {
   "cell_type": "markdown",
   "metadata": {
    "colab_type": "text",
    "id": "6F2EDcPp5der"
   },
   "source": [
    "-> Perbedaan Series dengan List dan Dictionary\n",
    "    Series: data ditampilkan per kolom dengan satu sumbu\n",
    "    List & Dictionary: data bisa ditampilkan mendatar maupun menjadi kolom\n",
    "\n",
    "-> Perbedaan dataframe dan series\n",
    "    DataFrame adalah suatu objek 2 dimensi, mirip seperti tabel. Series adalah objek 1 dimensi"
   ]
  },
  {
   "cell_type": "code",
   "execution_count": 0,
   "metadata": {
    "colab": {},
    "colab_type": "code",
    "id": "RBPrIKlZ5dev"
   },
   "outputs": [],
   "source": [
    "# code here\n"
   ]
  },
  {
   "cell_type": "markdown",
   "metadata": {
    "colab_type": "text",
    "id": "JNuHgN945de8"
   },
   "source": [
    "<h2>Quiz 4 : Pemeriksaan Data Sederhana</h2>\n",
    "\n",
    "Di quiz no 2 kamu telah membaca data tentang diamonds. pada soal ini cobalah suatu metode dari pandas untuk mengetahui beberapa data pertama dan beberapa data terakhir. kemudian sebutkan nilai dari :\n",
    "- baris pertama dari column price\n",
    "- baris terakhir dari column color\n",
    "\n",
    "tunjukan cara kalian menemukan nilai tersebut di block di bawah ini."
   ]
  },
  {
   "cell_type": "code",
   "execution_count": 0,
   "metadata": {
    "colab": {},
    "colab_type": "code",
    "id": "MRvNarxL5de-"
   },
   "outputs": [],
   "source": [
    "# code here"
   ]
  },
  {
   "cell_type": "markdown",
   "metadata": {
    "colab_type": "text",
    "id": "q-u9QIjJ5dfK"
   },
   "source": [
    "<h2>Quiz 5 : Deskriptif Statistik</h2>\n",
    "\n",
    "Jelaskan apa itu deskriptis statistik!"
   ]
  },
  {
   "cell_type": "markdown",
   "metadata": {
    "colab_type": "text",
    "id": "iKTeB5Gd5dfM"
   },
   "source": []
  },
  {
   "cell_type": "markdown",
   "metadata": {
    "colab_type": "text",
    "id": "5SKD0rNu5dfP"
   },
   "source": [
    "<h2>Quiz 6 : Practice Deskriptif Statistik</h2>\n",
    "\n",
    "- Gunakan suatu metode dari pandas untuk mengetahui deskriptif statistik dari suatu data\n",
    "- Berapa nilai rata-rata dari column price\n",
    "- Berapa nilai standar deviasi dari column depth\n",
    "- Berapa nilai maximum dari column carat"
   ]
  },
  {
   "cell_type": "code",
   "execution_count": 0,
   "metadata": {
    "colab": {},
    "colab_type": "code",
    "id": "giNtJG9Y5dfS"
   },
   "outputs": [],
   "source": [
    "# code here"
   ]
  },
  {
   "cell_type": "markdown",
   "metadata": {
    "colab_type": "text",
    "id": "M6miZVtG5dfd"
   },
   "source": []
  },
  {
   "cell_type": "markdown",
   "metadata": {
    "colab_type": "text",
    "id": "RMOHUoDUfHjm"
   },
   "source": [
    "# New Section"
   ]
  }
 ],
 "metadata": {
  "colab": {
   "name": "Tugas Day 1 Week 2.ipynb",
   "provenance": []
  },
  "kernelspec": {
   "display_name": "Python 3",
   "language": "python",
   "name": "python3"
  },
  "language_info": {
   "codemirror_mode": {
    "name": "ipython",
    "version": 3
   },
   "file_extension": ".py",
   "mimetype": "text/x-python",
   "name": "python",
   "nbconvert_exporter": "python",
   "pygments_lexer": "ipython3",
   "version": "3.7.6"
  }
 },
 "nbformat": 4,
 "nbformat_minor": 1
}
