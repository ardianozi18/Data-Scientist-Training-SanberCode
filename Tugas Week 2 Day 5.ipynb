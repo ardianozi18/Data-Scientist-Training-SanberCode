{
 "cells": [
  {
   "cell_type": "markdown",
   "metadata": {
    "colab_type": "text",
    "id": "Kn2L7gz1Cjak"
   },
   "source": [
    "<h2>Quiz 1 : Penggabungan Data</h2>\n",
    "\n",
    "- Sebutkan perbedaan antara full outer join, inner join, dan left join"
   ]
  },
  {
   "cell_type": "markdown",
   "metadata": {
    "colab_type": "text",
    "id": "lz5KBMyXCjau"
   },
   "source": [
    "Jawaban :\n",
    "Full Outer Join menghasilkan gabungan index bari dari setiap data yang di gabung serta menggabungan pula column yang berbeda.\n",
    "Inner join menggabungkan data antara nilai key/referensi yang beririsan.\n",
    "Left Outer Join menghasilkan seluruh data dari data yang kiri ditambah data kanan yang memiliki nilai key yang sama dengan data dari kiri. Right Outer Join menghasilkan seluruh data dari data yang kanan ditambah data kiri yang memiliki nilai key yang sama dengan data dari kanan.\n"
   ]
  },
  {
   "cell_type": "markdown",
   "metadata": {
    "colab_type": "text",
    "id": "H8k-jVewCjax"
   },
   "source": [
    "<h2>Quiz 2 : Penggabungan Data</h2>\n",
    "\n",
    "Pada quiz no 2 ini gunakan data 'names1881.csv' dan 'names1981.csv', data ini berisi nama bayi yang lahir pada tahun 1881 atau 1981 di Amerika.\n",
    "\n",
    "- Baca data tersebut dengan memberikan nama column 'Name', 'Gender', 'Count'.\n",
    "- Tunjukan jumlah dimensi dari data 'names1881.csv' dan 'names1981.csv'\n",
    "- Gabungkan kedua data tersebut berdasarkan sumbu baris\n",
    "- Tunjukan jumlah dimensi dari data setelah di gabungkan."
   ]
  },
  {
   "cell_type": "code",
   "execution_count": 3,
   "metadata": {
    "colab": {},
    "colab_type": "code",
    "id": "nThN7zO2Cjaz"
   },
   "outputs": [
    {
     "name": "stdout",
     "output_type": "stream",
     "text": [
      "Jumlah Dimensi data 'names1881.csv' : \n",
      "(1935, 3)\n",
      "Jumlah Dimensi data 'names1981.csv' : \n",
      "(19455, 3)\n",
      "            Name Gender  Count\n",
      "0           Mary      F   6919\n",
      "1           Anna      F   2698\n",
      "2           Emma      F   2034\n",
      "3      Elizabeth      F   1852\n",
      "4       Margaret      F   1658\n",
      "...          ...    ...    ...\n",
      "19450   Zeferino      M      5\n",
      "19451    Zerrick      M      5\n",
      "19452   Zimbabwe      M      5\n",
      "19453     Zoltan      M      5\n",
      "19454     Zuriel      M      5\n",
      "\n",
      "[21390 rows x 3 columns]\n",
      "Jumlah dimensi data setelah penggabungan : \n",
      "(21390, 3)\n"
     ]
    }
   ],
   "source": [
    "import pandas as pd\n",
    "# read data\n",
    "df1 = pd.read_csv('names1881.csv', names=['Name','Gender','Count'])\n",
    "df2 = pd.read_csv('names1981.csv', names=['Name','Gender','Count'])\n",
    "\n",
    "# periksa dimensi dari kedua data\n",
    "dataframe = df1.shape\n",
    "dataframe2 = df2.shape\n",
    "print(\"Jumlah Dimensi data 'names1881.csv' : \")\n",
    "print(dataframe)\n",
    "print(\"Jumlah Dimensi data 'names1981.csv' : \")\n",
    "print(dataframe2)\n",
    "\n",
    "# gabungkan data\n",
    "df = pd.concat([df1, df2])\n",
    "print(df)\n",
    "\n",
    "# periksa dimensi data hasil gabungan\n",
    "print(\"Jumlah dimensi data setelah penggabungan : \")\n",
    "dataframe3 = df.shape\n",
    "print(dataframe3)"
   ]
  },
  {
   "cell_type": "markdown",
   "metadata": {
    "colab_type": "text",
    "id": "vxp88Xe5CjbF"
   },
   "source": [
    "Expected Result : \n",
    "\n",
    "Jumlah Dimensi data 'names1881.csv' : \n",
    "\n",
    "(1935, 3)\n",
    "\n",
    "Jumlah Baris data 'names1981.csv' :\n",
    "\n",
    "(19455, 3)\n",
    "\n",
    "![alt text](https://drive.google.com/uc?id=1jMCAdLrcJubjufydZBnzdQkYqDS3Klat)\n",
    "\n",
    "Jumlah dimensi data setelah penggabungan : \n",
    "\n",
    "(21390, 3)"
   ]
  },
  {
   "cell_type": "markdown",
   "metadata": {
    "colab_type": "text",
    "id": "yALBDvlQCjbJ"
   },
   "source": [
    "<h2>Quiz 3 : Penggabungan Data</h2>\n",
    "\n",
    "Lakukan jenis penggabungan data full outer join, inner join, left outer join dan right outer join pada kedua data berikut : "
   ]
  },
  {
   "cell_type": "code",
   "execution_count": 4,
   "metadata": {
    "colab": {},
    "colab_type": "code",
    "id": "GQtYaV1gCjbM",
    "outputId": "4db73df8-6ee0-49cb-b151-a8ea15fd3514"
   },
   "outputs": [
    {
     "name": "stdout",
     "output_type": "stream",
     "text": [
      "           Name Gender  Count\n",
      "0          Mary      F   6919\n",
      "1          Anna      F   2698\n",
      "2          Emma      F   2034\n",
      "3     Elizabeth      F   1852\n",
      "4      Margaret      F   1658\n",
      "...         ...    ...    ...\n",
      "1930     Wiliam      M      5\n",
      "1931     Wilton      M      5\n",
      "1932       Wing      M      5\n",
      "1933       Wood      M      5\n",
      "1934     Wright      M      5\n",
      "\n",
      "[1935 rows x 3 columns]\n",
      "           Name Gender  Count\n",
      "0      Jennifer      F  57032\n",
      "1       Jessica      F  42519\n",
      "2        Amanda      F  34370\n",
      "3         Sarah      F  28162\n",
      "4       Melissa      F  28003\n",
      "...         ...    ...    ...\n",
      "19450  Zeferino      M      5\n",
      "19451   Zerrick      M      5\n",
      "19452  Zimbabwe      M      5\n",
      "19453    Zoltan      M      5\n",
      "19454    Zuriel      M      5\n",
      "\n",
      "[19455 rows x 3 columns]\n"
     ]
    }
   ],
   "source": [
    "import pandas as pd\n",
    "# read data\n",
    "df1 = pd.read_csv('names1881.csv', names=['Name','Gender','Count'])\n",
    "df2 = pd.read_csv('names1981.csv', names=['Name','Gender','Count'])\n",
    "\n",
    "\n",
    "data1 = {\n",
    "    'id' : [1, 2, 3, 4],\n",
    "    'Feature1' : ['a1', 'a2', 'a3', 'a4'],\n",
    "    'Feature2' : ['b1', 'b2', 'b3', 'b4']\n",
    "}\n",
    "\n",
    "data2 = {\n",
    "    'id' : [3, 4, 5 ,6, 7],\n",
    "    'Feature3' : ['c1', 'c2', 'c3', 'c4', 'c5']\n",
    "}\n",
    "\n",
    "\n",
    "print(df1)\n",
    "print(df2)"
   ]
  },
  {
   "cell_type": "code",
   "execution_count": 7,
   "metadata": {
    "colab": {},
    "colab_type": "code",
    "id": "sMuRgJYhCjbg"
   },
   "outputs": [
    {
     "name": "stdout",
     "output_type": "stream",
     "text": [
      "           Name Gender_x  Count_x Gender_y  Count_y\n",
      "0          Mary        F   6919.0        F  11030.0\n",
      "1          Mary        F   6919.0        M     67.0\n",
      "2          Mary        M     29.0        F  11030.0\n",
      "3          Mary        M     29.0        M     67.0\n",
      "4          Anna        F   2698.0        F   5182.0\n",
      "...         ...      ...      ...      ...      ...\n",
      "19913  Zeferino      NaN      NaN        M      5.0\n",
      "19914   Zerrick      NaN      NaN        M      5.0\n",
      "19915  Zimbabwe      NaN      NaN        M      5.0\n",
      "19916    Zoltan      NaN      NaN        M      5.0\n",
      "19917    Zuriel      NaN      NaN        M      5.0\n",
      "\n",
      "[19918 rows x 5 columns]\n",
      "        Name Gender_x  Count_x Gender_y  Count_y\n",
      "0       Mary        F     6919        F    11030\n",
      "1       Mary        F     6919        M       67\n",
      "2       Mary        M       29        F    11030\n",
      "3       Mary        M       29        M       67\n",
      "4       Anna        F     2698        F     5182\n",
      "...      ...      ...      ...      ...      ...\n",
      "2208   Wells        M        5        M        6\n",
      "2209  Wiliam        M        5        M       11\n",
      "2210  Wilton        M        5        M       33\n",
      "2211    Wing        M        5        M        8\n",
      "2212  Wright        M        5        M        6\n",
      "\n",
      "[2213 rows x 5 columns]\n",
      "        Name Gender_x  Count_x Gender_y  Count_y\n",
      "0       Mary        F     6919        F  11030.0\n",
      "1       Mary        F     6919        M     67.0\n",
      "2       Anna        F     2698        F   5182.0\n",
      "3       Anna        F     2698        M     24.0\n",
      "4       Emma        F     2034        F    532.0\n",
      "...      ...      ...      ...      ...      ...\n",
      "2510  Wiliam        M        5        M     11.0\n",
      "2511  Wilton        M        5        M     33.0\n",
      "2512    Wing        M        5        M      8.0\n",
      "2513    Wood        M        5      NaN      NaN\n",
      "2514  Wright        M        5        M      6.0\n",
      "\n",
      "[2515 rows x 5 columns]\n",
      "           Name Gender_x  Count_x Gender_y  Count_y\n",
      "0          Mary        F   6919.0        F    11030\n",
      "1          Mary        M     29.0        F    11030\n",
      "2          Mary        F   6919.0        M       67\n",
      "3          Mary        M     29.0        M       67\n",
      "4          Anna        F   2698.0        F     5182\n",
      "...         ...      ...      ...      ...      ...\n",
      "19611  Zeferino      NaN      NaN        M        5\n",
      "19612   Zerrick      NaN      NaN        M        5\n",
      "19613  Zimbabwe      NaN      NaN        M        5\n",
      "19614    Zoltan      NaN      NaN        M        5\n",
      "19615    Zuriel      NaN      NaN        M        5\n",
      "\n",
      "[19616 rows x 5 columns]\n"
     ]
    }
   ],
   "source": [
    "# join data\n",
    "df_outer_join = pd.merge(df1, df2, on=\"Name\", how='outer')\n",
    "print(df_outer_join)\n",
    "\n",
    "df_inner_join = pd.merge(df1, df2, on=\"Name\", how='inner')\n",
    "print(df_inner_join)\n",
    "\n",
    "df_left_join = pd.merge(df1, df2, on=\"Name\", how='left')\n",
    "print(df_left_join)\n",
    "\n",
    "df_right_join = pd.merge(df1, df2, on=\"Name\", how='right')\n",
    "print(df_right_join)"
   ]
  },
  {
   "cell_type": "markdown",
   "metadata": {
    "colab_type": "text",
    "id": "p2YbxGt8Cjb1"
   },
   "source": [
    "Expected Result :\n",
    "\n",
    "![alt text](https://drive.google.com/uc?id=1kUpkzWh3Y-X_1H1QXHiccdHf4YjqXsDu)\n",
    "\n",
    "![alt text](https://drive.google.com/uc?id=1ojoAC2oX9P3ZHl0lS3RXipd7gShLOmmC)\n",
    "\n",
    "![alt text](https://drive.google.com/uc?id=12jDnQzIosn6dizVwl2nPMX1IhhyEZ4FA)\n",
    "\n",
    "![alt text](https://drive.google.com/uc?id=11znqscNsVZ-cHY-PPgoHEBDWyc6XRtAL)"
   ]
  },
  {
   "cell_type": "markdown",
   "metadata": {
    "colab_type": "text",
    "id": "2hfhFcsACjb4"
   },
   "source": [
    "<h2>Quiz 4 : Penggabungan Data berbeda label column Key</h2>\n",
    "\n",
    "Lakukan jenis penggabungan inner join untuk 2 data yang memiliki nama column key yang berbeda ini :"
   ]
  },
  {
   "cell_type": "code",
   "execution_count": 41,
   "metadata": {
    "colab": {},
    "colab_type": "code",
    "id": "9eE1RWfKCjb9",
    "outputId": "345c3d29-a344-410b-b4eb-769bb9fdb64d"
   },
   "outputs": [
    {
     "name": "stdout",
     "output_type": "stream",
     "text": [
      "   key_data1 Feature1 Feature2\n",
      "0          1       a1       b1\n",
      "1          2       a2       b2\n",
      "2          3       a3       b3\n",
      "3          4       a4       b4\n",
      "   key_data2 Feature3\n",
      "0          3       c1\n",
      "1          4       c2\n",
      "2          5       c3\n",
      "3          6       c4\n",
      "4          7       c5\n"
     ]
    }
   ],
   "source": [
    "import pandas as pd\n",
    "\n",
    "data1 = {\n",
    "    'key_data1' : [1, 2, 3, 4],\n",
    "    'Feature1' : ['a1', 'a2', 'a3', 'a4'],\n",
    "    'Feature2' : ['b1', 'b2', 'b3', 'b4']\n",
    "}\n",
    "\n",
    "data2 = {\n",
    "    'key_data2' : [3, 4, 5 ,6, 7],\n",
    "    'Feature3' : ['c1', 'c2', 'c3', 'c4', 'c5']\n",
    "}\n",
    "\n",
    "df1= pd.DataFrame(data1)\n",
    "df2= pd.DataFrame(data2)\n",
    "\n",
    "print(df1)\n",
    "print(df2)"
   ]
  },
  {
   "cell_type": "code",
   "execution_count": 47,
   "metadata": {
    "colab": {},
    "colab_type": "code",
    "id": "OiD9K234CjcV"
   },
   "outputs": [
    {
     "data": {
      "text/html": [
       "<div>\n",
       "<style scoped>\n",
       "    .dataframe tbody tr th:only-of-type {\n",
       "        vertical-align: middle;\n",
       "    }\n",
       "\n",
       "    .dataframe tbody tr th {\n",
       "        vertical-align: top;\n",
       "    }\n",
       "\n",
       "    .dataframe thead th {\n",
       "        text-align: right;\n",
       "    }\n",
       "</style>\n",
       "<table border=\"1\" class=\"dataframe\">\n",
       "  <thead>\n",
       "    <tr style=\"text-align: right;\">\n",
       "      <th></th>\n",
       "      <th>key_data1</th>\n",
       "      <th>Feature1</th>\n",
       "      <th>Feature2</th>\n",
       "      <th>key_data2</th>\n",
       "      <th>Feature3</th>\n",
       "    </tr>\n",
       "  </thead>\n",
       "  <tbody>\n",
       "    <tr>\n",
       "      <th>0</th>\n",
       "      <td>3</td>\n",
       "      <td>a3</td>\n",
       "      <td>b3</td>\n",
       "      <td>3</td>\n",
       "      <td>c1</td>\n",
       "    </tr>\n",
       "    <tr>\n",
       "      <th>1</th>\n",
       "      <td>4</td>\n",
       "      <td>a4</td>\n",
       "      <td>b4</td>\n",
       "      <td>4</td>\n",
       "      <td>c2</td>\n",
       "    </tr>\n",
       "  </tbody>\n",
       "</table>\n",
       "</div>"
      ],
      "text/plain": [
       "   key_data1 Feature1 Feature2  key_data2 Feature3\n",
       "0          3       a3       b3          3       c1\n",
       "1          4       a4       b4          4       c2"
      ]
     },
     "execution_count": 47,
     "metadata": {},
     "output_type": "execute_result"
    }
   ],
   "source": [
    "# Gabungkan kedua data tersebut\n",
    "df_gabung = pd.merge(df1, df2, left_on='key_data1', right_on='key_data2', how='inner')\n",
    "\n",
    "df_gabung"
   ]
  },
  {
   "cell_type": "markdown",
   "metadata": {
    "colab_type": "text",
    "id": "KP38kgIBCjco"
   },
   "source": [
    "Expected Result :\n",
    "\n",
    "![alt text](https://drive.google.com/uc?id=1uBiVOPnqns4al88FDc0ENIeTzIxP4wxH)"
   ]
  }
 ],
 "metadata": {
  "colab": {
   "collapsed_sections": [],
   "name": "Tugas Day 5 Week 2.ipynb",
   "provenance": []
  },
  "kernelspec": {
   "display_name": "Python 3",
   "language": "python",
   "name": "python3"
  },
  "language_info": {
   "codemirror_mode": {
    "name": "ipython",
    "version": 3
   },
   "file_extension": ".py",
   "mimetype": "text/x-python",
   "name": "python",
   "nbconvert_exporter": "python",
   "pygments_lexer": "ipython3",
   "version": "3.7.6"
  }
 },
 "nbformat": 4,
 "nbformat_minor": 1
}
